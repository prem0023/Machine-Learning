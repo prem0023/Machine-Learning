{
 "cells": [
  {
   "cell_type": "code",
   "execution_count": 1,
   "metadata": {
    "executionInfo": {
     "elapsed": 1843,
     "status": "ok",
     "timestamp": 1607672424029,
     "user": {
      "displayName": "Ashok Kumar",
      "photoUrl": "",
      "userId": "03186769766374542218"
     },
     "user_tz": -330
    },
    "id": "BVsW8ridBA8M"
   },
   "outputs": [],
   "source": [
    "import os\n",
    "import numpy as np\n",
    "import pandas as pd\n",
    "import cv2"
   ]
  },
  {
   "cell_type": "code",
   "execution_count": 2,
   "metadata": {
    "colab": {
     "base_uri": "https://localhost:8080/"
    },
    "executionInfo": {
     "elapsed": 5805,
     "status": "ok",
     "timestamp": 1607672428021,
     "user": {
      "displayName": "Ashok Kumar",
      "photoUrl": "",
      "userId": "03186769766374542218"
     },
     "user_tz": -330
    },
    "id": "RVHnAoZx4a4M",
    "outputId": "942c6d27-0d81-4411-a918-f1ebba32d240"
   },
   "outputs": [
    {
     "name": "stdout",
     "output_type": "stream",
     "text": [
      "Tensorflow version: 2.3.1\n"
     ]
    }
   ],
   "source": [
    "import numpy as np\n",
    "import pandas as pd\n",
    "import seaborn as sns\n",
    "import matplotlib.pyplot as plt\n",
    "import os\n",
    "%matplotlib inline\n",
    "\n",
    "from tensorflow.keras.preprocessing.image import ImageDataGenerator\n",
    "from tensorflow.keras.layers import Dense, Input, Dropout,Flatten, Conv2D\n",
    "from tensorflow.keras.layers import BatchNormalization, Activation, MaxPooling2D\n",
    "from tensorflow.keras.models import Model, Sequential\n",
    "from tensorflow.keras.optimizers import Adam\n",
    "from tensorflow.keras.callbacks import ModelCheckpoint, ReduceLROnPlateau\n",
    "from tensorflow.keras.utils import plot_model\n",
    "\n",
    "from IPython.display import SVG, Image\n",
    "from livelossplot import PlotLossesKeras\n",
    "import tensorflow as tf\n",
    "print(\"Tensorflow version:\", tf.__version__)"
   ]
  },
  {
   "cell_type": "markdown",
   "metadata": {
    "id": "Pz1m98Qj7fpz"
   },
   "source": [
    "### Importing the Kaggle dataset"
   ]
  },
  {
   "cell_type": "code",
   "execution_count": 3,
   "metadata": {
    "executionInfo": {
     "elapsed": 5795,
     "status": "ok",
     "timestamp": 1607672428022,
     "user": {
      "displayName": "Ashok Kumar",
      "photoUrl": "",
      "userId": "03186769766374542218"
     },
     "user_tz": -330
    },
    "id": "M9ALyvvq7fHw"
   },
   "outputs": [],
   "source": [
    "# ! pip install -q kaggle\n",
    "\n",
    "# from google.colab import files\n",
    "# files.upload()\n",
    "\n",
    "# ! mkdir ~/.kaggle\n",
    "# ! cp kaggle.json ~/.kaggle/\n",
    "# ! chmod 600 ~/.kaggle/kaggle.json\n",
    "# ! kaggle competitions download -c challenges-in-representation-learning-facial-expression-recognition-challenge"
   ]
  },
  {
   "cell_type": "code",
   "execution_count": 4,
   "metadata": {
    "executionInfo": {
     "elapsed": 5789,
     "status": "ok",
     "timestamp": 1607672428023,
     "user": {
      "displayName": "Ashok Kumar",
      "photoUrl": "",
      "userId": "03186769766374542218"
     },
     "user_tz": -330
    },
    "id": "rnr2tg064xWU"
   },
   "outputs": [],
   "source": [
    "# ! mkdir train\n",
    "# ! mkdir test\n",
    "# ! mkdir icml_face_data\n",
    "\n",
    "# ! unzip train.csv.zip -d train\n",
    "# ! unzip test.csv.zip -d test\n",
    "# ! unzip icml_face_data.csv.zip -d icml_face_data"
   ]
  },
  {
   "cell_type": "markdown",
   "metadata": {
    "id": "BW5oz_QuVJCv"
   },
   "source": [
    "### Extracting the tar file"
   ]
  },
  {
   "cell_type": "code",
   "execution_count": 5,
   "metadata": {
    "executionInfo": {
     "elapsed": 5782,
     "status": "ok",
     "timestamp": 1607672428024,
     "user": {
      "displayName": "Ashok Kumar",
      "photoUrl": "",
      "userId": "03186769766374542218"
     },
     "user_tz": -330
    },
    "id": "kuiJWQDU93EZ"
   },
   "outputs": [],
   "source": [
    "# ! mkdir fer2013.tar\n",
    "\n",
    "# !tar -xvf  'fer2013.tar.gz' -C 'fer2013.tar'"
   ]
  },
  {
   "cell_type": "markdown",
   "metadata": {
    "id": "2ZyEPY8sVGWE"
   },
   "source": [
    "### Converting Pixel to Image"
   ]
  },
  {
   "cell_type": "code",
   "execution_count": 6,
   "metadata": {
    "executionInfo": {
     "elapsed": 5774,
     "status": "ok",
     "timestamp": 1607672428025,
     "user": {
      "displayName": "Ashok Kumar",
      "photoUrl": "",
      "userId": "03186769766374542218"
     },
     "user_tz": -330
    },
    "id": "eNb9AX-T-ujW"
   },
   "outputs": [],
   "source": [
    "# ! mkdir images\n",
    "\n",
    "# fer_data=pd.read_csv('train/train.csv',delimiter=',')\n",
    "\n",
    "# for index,row in fer_data.iterrows():\n",
    "#   pixels=np.asarray(list(row['pixels'].split(' ')),dtype=np.uint8)\n",
    "#   img=pixels.reshape((48,48))\n",
    "#   pathname=os.path.join('images',str(index)+'.jpg')\n",
    "#   cv2.imwrite(pathname,img)\n",
    "#   print('image saved ias {}'.format(pathname))"
   ]
  },
  {
   "cell_type": "markdown",
   "metadata": {
    "id": "H8QiG6AtWD6L"
   },
   "source": [
    "### Loading the data"
   ]
  },
  {
   "cell_type": "code",
   "execution_count": 7,
   "metadata": {
    "colab": {
     "base_uri": "https://localhost:8080/",
     "height": 195
    },
    "executionInfo": {
     "elapsed": 9123,
     "status": "ok",
     "timestamp": 1607672431386,
     "user": {
      "displayName": "Ashok Kumar",
      "photoUrl": "",
      "userId": "03186769766374542218"
     },
     "user_tz": -330
    },
    "id": "ahISSP31E-a0",
    "outputId": "f9cd14f0-cbcb-48ab-9122-82a331141e63"
   },
   "outputs": [
    {
     "data": {
      "text/html": [
       "<div>\n",
       "<style scoped>\n",
       "    .dataframe tbody tr th:only-of-type {\n",
       "        vertical-align: middle;\n",
       "    }\n",
       "\n",
       "    .dataframe tbody tr th {\n",
       "        vertical-align: top;\n",
       "    }\n",
       "\n",
       "    .dataframe thead th {\n",
       "        text-align: right;\n",
       "    }\n",
       "</style>\n",
       "<table border=\"1\" class=\"dataframe\">\n",
       "  <thead>\n",
       "    <tr style=\"text-align: right;\">\n",
       "      <th></th>\n",
       "      <th>emotion</th>\n",
       "      <th>pixels</th>\n",
       "      <th>Usage</th>\n",
       "    </tr>\n",
       "  </thead>\n",
       "  <tbody>\n",
       "    <tr>\n",
       "      <th>0</th>\n",
       "      <td>0</td>\n",
       "      <td>70 80 82 72 58 58 60 63 54 58 60 48 89 115 121...</td>\n",
       "      <td>Training</td>\n",
       "    </tr>\n",
       "    <tr>\n",
       "      <th>1</th>\n",
       "      <td>0</td>\n",
       "      <td>151 150 147 155 148 133 111 140 170 174 182 15...</td>\n",
       "      <td>Training</td>\n",
       "    </tr>\n",
       "    <tr>\n",
       "      <th>2</th>\n",
       "      <td>2</td>\n",
       "      <td>231 212 156 164 174 138 161 173 182 200 106 38...</td>\n",
       "      <td>Training</td>\n",
       "    </tr>\n",
       "    <tr>\n",
       "      <th>3</th>\n",
       "      <td>4</td>\n",
       "      <td>24 32 36 30 32 23 19 20 30 41 21 22 32 34 21 1...</td>\n",
       "      <td>Training</td>\n",
       "    </tr>\n",
       "    <tr>\n",
       "      <th>4</th>\n",
       "      <td>6</td>\n",
       "      <td>4 0 0 0 0 0 0 0 0 0 0 0 3 15 23 28 48 50 58 84...</td>\n",
       "      <td>Training</td>\n",
       "    </tr>\n",
       "  </tbody>\n",
       "</table>\n",
       "</div>"
      ],
      "text/plain": [
       "   emotion                                             pixels     Usage\n",
       "0        0  70 80 82 72 58 58 60 63 54 58 60 48 89 115 121...  Training\n",
       "1        0  151 150 147 155 148 133 111 140 170 174 182 15...  Training\n",
       "2        2  231 212 156 164 174 138 161 173 182 200 106 38...  Training\n",
       "3        4  24 32 36 30 32 23 19 20 30 41 21 22 32 34 21 1...  Training\n",
       "4        6  4 0 0 0 0 0 0 0 0 0 0 0 3 15 23 28 48 50 58 84...  Training"
      ]
     },
     "execution_count": 7,
     "metadata": {},
     "output_type": "execute_result"
    }
   ],
   "source": [
    "fer_data = pd.read_csv(\"fer2013/fer2013.csv\")\n",
    "fer_data.head()"
   ]
  },
  {
   "cell_type": "code",
   "execution_count": 8,
   "metadata": {
    "colab": {
     "base_uri": "https://localhost:8080/"
    },
    "executionInfo": {
     "elapsed": 9107,
     "status": "ok",
     "timestamp": 1607672431387,
     "user": {
      "displayName": "Ashok Kumar",
      "photoUrl": "",
      "userId": "03186769766374542218"
     },
     "user_tz": -330
    },
    "id": "pmekG7xiWfGw",
    "outputId": "3310f35e-5599-47d2-fe3f-9bf1c41a28ca"
   },
   "outputs": [
    {
     "data": {
      "text/plain": [
       "Training       28709\n",
       "PrivateTest     3589\n",
       "PublicTest      3589\n",
       "Name: Usage, dtype: int64"
      ]
     },
     "execution_count": 8,
     "metadata": {},
     "output_type": "execute_result"
    }
   ],
   "source": [
    "fer_data['Usage'].value_counts()"
   ]
  },
  {
   "cell_type": "markdown",
   "metadata": {
    "id": "jZ-h7gpAWGIR"
   },
   "source": [
    "### Splitting the data"
   ]
  },
  {
   "cell_type": "code",
   "execution_count": 9,
   "metadata": {
    "executionInfo": {
     "elapsed": 9098,
     "status": "ok",
     "timestamp": 1607672431388,
     "user": {
      "displayName": "Ashok Kumar",
      "photoUrl": "",
      "userId": "03186769766374542218"
     },
     "user_tz": -330
    },
    "id": "aJY5_MUqV9nT"
   },
   "outputs": [],
   "source": [
    "data_train = fer_data[fer_data['Usage'] == 'Training'].copy()\n",
    "data_validation = fer_data[fer_data['Usage'] == 'PrivateTest'].copy()\n",
    "data_test = fer_data[fer_data['Usage'] == 'PublicTest'].copy()"
   ]
  },
  {
   "cell_type": "code",
   "execution_count": 10,
   "metadata": {
    "colab": {
     "base_uri": "https://localhost:8080/"
    },
    "executionInfo": {
     "elapsed": 9090,
     "status": "ok",
     "timestamp": 1607672431389,
     "user": {
      "displayName": "Ashok Kumar",
      "photoUrl": "",
      "userId": "03186769766374542218"
     },
     "user_tz": -330
    },
    "id": "wOOKiBdpWvuG",
    "outputId": "6d713ed5-1daa-4c86-f8f2-c8d25349fb8b"
   },
   "outputs": [
    {
     "name": "stdout",
     "output_type": "stream",
     "text": [
      "Training data Shape: (28709, 3)\n",
      "Validation data shape: (3589, 3)\n",
      "Test data shape: (3589, 3)\n"
     ]
    }
   ],
   "source": [
    "print(f\"Training data Shape: {data_train.shape}\\nValidation data shape: {data_validation.shape}\\nTest data shape: {data_test.shape}\")"
   ]
  },
  {
   "cell_type": "markdown",
   "metadata": {
    "id": "YJxtk5U7YPwo"
   },
   "source": [
    "### Intializer"
   ]
  },
  {
   "cell_type": "code",
   "execution_count": 11,
   "metadata": {
    "executionInfo": {
     "elapsed": 9082,
     "status": "ok",
     "timestamp": 1607672431390,
     "user": {
      "displayName": "Ashok Kumar",
      "photoUrl": "",
      "userId": "03186769766374542218"
     },
     "user_tz": -330
    },
    "id": "5UIV_CbcXczt"
   },
   "outputs": [],
   "source": [
    "num_classes = 7\n",
    "epochs = 5\n",
    "batch_size = 64\n",
    "num_features = 32\n",
    "width, height = 48, 48"
   ]
  },
  {
   "cell_type": "markdown",
   "metadata": {
    "id": "CWo4wNBUZ-33"
   },
   "source": [
    "### Data Preprocessing"
   ]
  },
  {
   "cell_type": "markdown",
   "metadata": {
    "id": "8y1OUd5TajPT"
   },
   "source": [
    "#### Perform CRNO (Convert, Reshape, Normalize, One-Hot-Encoding)"
   ]
  },
  {
   "cell_type": "code",
   "execution_count": 12,
   "metadata": {
    "executionInfo": {
     "elapsed": 9077,
     "status": "ok",
     "timestamp": 1607672431392,
     "user": {
      "displayName": "Ashok Kumar",
      "photoUrl": "",
      "userId": "03186769766374542218"
     },
     "user_tz": -330
    },
    "id": "G91QsmIJiU_R"
   },
   "outputs": [],
   "source": [
    "from keras.utils import to_categorical"
   ]
  },
  {
   "cell_type": "code",
   "execution_count": 13,
   "metadata": {
    "executionInfo": {
     "elapsed": 9071,
     "status": "ok",
     "timestamp": 1607672431393,
     "user": {
      "displayName": "Ashok Kumar",
      "photoUrl": "",
      "userId": "03186769766374542218"
     },
     "user_tz": -330
    },
    "id": "nSz8t6GgZ8jd"
   },
   "outputs": [],
   "source": [
    "def CRNO(df, dataName):\n",
    "  df['pixels'] = df.loc[:,'pixels'].apply(lambda pixel_sequences: [int(pixel) for pixel in pixel_sequences.split()])\n",
    "  data_x = np.array(df['pixels'].tolist(), dtype='float32').reshape(-1,48,48,1)/255.0\n",
    "  data_y = to_categorical(df['emotion'],num_classes=num_classes)\n",
    "  print(f\"{dataName}_x Shape: {data_x.shape}\\n{dataName}_y Shape: {data_y.shape}\")\n",
    "  return data_x, data_y"
   ]
  },
  {
   "cell_type": "code",
   "execution_count": 14,
   "metadata": {
    "colab": {
     "base_uri": "https://localhost:8080/"
    },
    "executionInfo": {
     "elapsed": 29355,
     "status": "ok",
     "timestamp": 1607672451685,
     "user": {
      "displayName": "Ashok Kumar",
      "photoUrl": "",
      "userId": "03186769766374542218"
     },
     "user_tz": -330
    },
    "id": "IZqVqQXgbnMo",
    "outputId": "b17b814c-b372-4c14-e2e3-e64ace45515b"
   },
   "outputs": [
    {
     "name": "stdout",
     "output_type": "stream",
     "text": [
      "Train_x Shape: (28709, 48, 48, 1)\n",
      "Train_y Shape: (28709, 7)\n",
      "Validation_x Shape: (3589, 48, 48, 1)\n",
      "Validation_y Shape: (3589, 7)\n",
      "Test_x Shape: (3589, 48, 48, 1)\n",
      "Test_y Shape: (3589, 7)\n"
     ]
    }
   ],
   "source": [
    "train_x, train_y = CRNO(data_train, \"Train\")\n",
    "validation_x, validation_y = CRNO(data_validation, \"Validation\")\n",
    "test_x, test_y = CRNO(data_test, \"Test\")"
   ]
  },
  {
   "cell_type": "code",
   "execution_count": 15,
   "metadata": {
    "colab": {
     "base_uri": "https://localhost:8080/"
    },
    "executionInfo": {
     "elapsed": 30186,
     "status": "ok",
     "timestamp": 1607672452526,
     "user": {
      "displayName": "Ashok Kumar",
      "photoUrl": "",
      "userId": "03186769766374542218"
     },
     "user_tz": -330
    },
    "id": "40vVDSa0bxRD",
    "outputId": "73998357-f319-4f26-b854-eb8f3e50fbf6"
   },
   "outputs": [
    {
     "name": "stdout",
     "output_type": "stream",
     "text": [
      "Model: \"sequential\"\n",
      "_________________________________________________________________\n",
      "Layer (type)                 Output Shape              Param #   \n",
      "=================================================================\n",
      "conv2d (Conv2D)              (None, 48, 48, 64)        640       \n",
      "_________________________________________________________________\n",
      "batch_normalization (BatchNo (None, 48, 48, 64)        256       \n",
      "_________________________________________________________________\n",
      "activation (Activation)      (None, 48, 48, 64)        0         \n",
      "_________________________________________________________________\n",
      "max_pooling2d (MaxPooling2D) (None, 24, 24, 64)        0         \n",
      "_________________________________________________________________\n",
      "dropout (Dropout)            (None, 24, 24, 64)        0         \n",
      "_________________________________________________________________\n",
      "conv2d_1 (Conv2D)            (None, 24, 24, 128)       204928    \n",
      "_________________________________________________________________\n",
      "batch_normalization_1 (Batch (None, 24, 24, 128)       512       \n",
      "_________________________________________________________________\n",
      "activation_1 (Activation)    (None, 24, 24, 128)       0         \n",
      "_________________________________________________________________\n",
      "max_pooling2d_1 (MaxPooling2 (None, 12, 12, 128)       0         \n",
      "_________________________________________________________________\n",
      "dropout_1 (Dropout)          (None, 12, 12, 128)       0         \n",
      "_________________________________________________________________\n",
      "conv2d_2 (Conv2D)            (None, 12, 12, 256)       819456    \n",
      "_________________________________________________________________\n",
      "batch_normalization_2 (Batch (None, 12, 12, 256)       1024      \n",
      "_________________________________________________________________\n",
      "activation_2 (Activation)    (None, 12, 12, 256)       0         \n",
      "_________________________________________________________________\n",
      "max_pooling2d_2 (MaxPooling2 (None, 6, 6, 256)         0         \n",
      "_________________________________________________________________\n",
      "dropout_2 (Dropout)          (None, 6, 6, 256)         0         \n",
      "_________________________________________________________________\n",
      "conv2d_3 (Conv2D)            (None, 6, 6, 256)         590080    \n",
      "_________________________________________________________________\n",
      "batch_normalization_3 (Batch (None, 6, 6, 256)         1024      \n",
      "_________________________________________________________________\n",
      "activation_3 (Activation)    (None, 6, 6, 256)         0         \n",
      "_________________________________________________________________\n",
      "max_pooling2d_3 (MaxPooling2 (None, 3, 3, 256)         0         \n",
      "_________________________________________________________________\n",
      "dropout_3 (Dropout)          (None, 3, 3, 256)         0         \n",
      "_________________________________________________________________\n",
      "flatten (Flatten)            (None, 2304)              0         \n",
      "_________________________________________________________________\n",
      "dense (Dense)                (None, 512)               1180160   \n",
      "_________________________________________________________________\n",
      "batch_normalization_4 (Batch (None, 512)               2048      \n",
      "_________________________________________________________________\n",
      "activation_4 (Activation)    (None, 512)               0         \n",
      "_________________________________________________________________\n",
      "dropout_4 (Dropout)          (None, 512)               0         \n",
      "_________________________________________________________________\n",
      "dense_1 (Dense)              (None, 512)               262656    \n",
      "_________________________________________________________________\n",
      "batch_normalization_5 (Batch (None, 512)               2048      \n",
      "_________________________________________________________________\n",
      "activation_5 (Activation)    (None, 512)               0         \n",
      "_________________________________________________________________\n",
      "dropout_5 (Dropout)          (None, 512)               0         \n",
      "_________________________________________________________________\n",
      "dense_2 (Dense)              (None, 7)                 3591      \n",
      "=================================================================\n",
      "Total params: 3,068,423\n",
      "Trainable params: 3,064,967\n",
      "Non-trainable params: 3,456\n",
      "_________________________________________________________________\n"
     ]
    }
   ],
   "source": [
    "#Build the model\n",
    "model = Sequential()\n",
    "#Module1 conv<<conv<<batchnorm<<relu<<maxpooling<<dropout\n",
    "model.add(Conv2D(2*num_features,kernel_size=(3,3), padding='same',data_format='channels_last',input_shape=(width, height, 1)))\n",
    "model.add(BatchNormalization())\n",
    "model.add(Activation('relu'))\n",
    "model.add(MaxPooling2D(pool_size=(2,2)))\n",
    "model.add(Dropout(rate=0.25))\n",
    "#Module2 conv<<conv<<batchnorm<<relu<<maxpool<<dropout\n",
    "model.add(Conv2D(2*2*num_features,kernel_size=(5,5),padding='same'))\n",
    "model.add(BatchNormalization())\n",
    "model.add(Activation('relu'))\n",
    "model.add(MaxPooling2D(pool_size=(2,2)))\n",
    "model.add(Dropout(rate=0.25))\n",
    "#Module3 conv<<conv<<batchnorm<<relu<<maxpool<<dropout\n",
    "model.add(Conv2D(2*2*2*num_features,kernel_size=(5,5),padding='same'))\n",
    "model.add(BatchNormalization())\n",
    "model.add(Activation('relu'))\n",
    "model.add(MaxPooling2D(pool_size=(2,2)))\n",
    "model.add(Dropout(rate=0.25))\n",
    "\n",
    "#cov 4\n",
    "model.add(Conv2D(2*2*2*num_features, kernel_size=(3,3), padding='same'))\n",
    "model.add(BatchNormalization())\n",
    "model.add(Activation('relu'))\n",
    "model.add(MaxPooling2D(pool_size=(2,2)))\n",
    "model.add(Dropout(0.25))\n",
    "\n",
    "#Module4 fc<<batchnorm<<fc<<batchnorm<<dropout<<softmax\n",
    "model.add(Flatten())\n",
    "\n",
    "model.add(Dense(512))\n",
    "model.add(BatchNormalization())\n",
    "model.add(Activation('relu'))\n",
    "model.add(Dropout(0.25))\n",
    "\n",
    "model.add(Dense(512))\n",
    "model.add(BatchNormalization())\n",
    "model.add(Activation('relu'))\n",
    "model.add(Dropout(0.25))\n",
    "\n",
    "model.add(Dense(7, activation='softmax'))\n",
    "\n",
    "opt = Adam(lr=0.005)\n",
    "model.compile(optimizer=opt, loss='categorical_crossentropy', metrics = ['accuracy'])\n",
    "model.summary()"
   ]
  },
  {
   "cell_type": "code",
   "execution_count": 16,
   "metadata": {
    "executionInfo": {
     "elapsed": 30175,
     "status": "ok",
     "timestamp": 1607672452527,
     "user": {
      "displayName": "Ashok Kumar",
      "photoUrl": "",
      "userId": "03186769766374542218"
     },
     "user_tz": -330
    },
    "id": "be2w3OQ5m6JC"
   },
   "outputs": [],
   "source": [
    "from keras.callbacks import EarlyStopping"
   ]
  },
  {
   "cell_type": "code",
   "execution_count": 17,
   "metadata": {
    "colab": {
     "base_uri": "https://localhost:8080/",
     "height": 736
    },
    "executionInfo": {
     "elapsed": 358760,
     "status": "ok",
     "timestamp": 1607672781129,
     "user": {
      "displayName": "Ashok Kumar",
      "photoUrl": "",
      "userId": "03186769766374542218"
     },
     "user_tz": -330
    },
    "id": "7OodHz0Dlf-T",
    "outputId": "923d440a-fcdc-48c7-a949-f3100d96a697"
   },
   "outputs": [
    {
     "data": {
      "image/png": "[encoded data removed]",
      "text/plain": [
       "<Figure size 864x576 with 2 Axes>"
      ]
     },
     "metadata": {
      "needs_background": "light"
     },
     "output_type": "display_data"
    },
    {
     "name": "stdout",
     "output_type": "stream",
     "text": [
      "accuracy\n",
      "\ttraining         \t (min:    0.314, max:    0.579, cur:    0.579)\n",
      "\tvalidation       \t (min:    0.315, max:    0.528, cur:    0.528)\n",
      "Loss\n",
      "\ttraining         \t (min:    1.113, max:    1.768, cur:    1.113)\n",
      "\tvalidation       \t (min:    1.240, max:    1.786, cur:    1.240)\n",
      "\n",
      "Epoch 00005: saving model to model_weight.h5\n",
      "449/449 [==============================] - 1557s 3s/step - loss: 1.1129 - accuracy: 0.5795 - val_loss: 1.2404 - val_accuracy: 0.5280\n"
     ]
    }
   ],
   "source": [
    "# steps_per_epoch = train_generator.n//train_generator.batch_size\n",
    "# validation_steps = validation_generator.n//validation_generator.batch_size\n",
    "\n",
    "checkpoint = ModelCheckpoint(\"model_weight.h5\", monitor='val_accuracy',\n",
    "                            save_weights_only = True, mode='max', verbose=1\n",
    "                            )\n",
    "reduce_lr = ReduceLROnPlateau(monitor='val_loss', factor=0.1, patience=2, min_lr = 0.00001, mode='auto')\n",
    "\n",
    "callbacks = [PlotLossesKeras(), checkpoint, reduce_lr]\n",
    "\n",
    "history = model.fit(\n",
    "                    x = train_x,\n",
    "                    y = train_y,\n",
    "                    epochs=epochs,\n",
    "                    batch_size = batch_size,\n",
    "                    validation_data=(validation_x, validation_y),\n",
    "                    callbacks=callbacks\n",
    "                    )"
   ]
  },
  {
   "cell_type": "code",
   "execution_count": 18,
   "metadata": {
    "executionInfo": {
     "elapsed": 358746,
     "status": "ok",
     "timestamp": 1607672781130,
     "user": {
      "displayName": "Ashok Kumar",
      "photoUrl": "",
      "userId": "03186769766374542218"
     },
     "user_tz": -330
    },
    "id": "AEji3JYXpxo-"
   },
   "outputs": [],
   "source": [
    "from sklearn.metrics import accuracy_score"
   ]
  },
  {
   "cell_type": "code",
   "execution_count": 19,
   "metadata": {
    "colab": {
     "base_uri": "https://localhost:8080/"
    },
    "executionInfo": {
     "elapsed": 359229,
     "status": "ok",
     "timestamp": 1607672781619,
     "user": {
      "displayName": "Ashok Kumar",
      "photoUrl": "",
      "userId": "03186769766374542218"
     },
     "user_tz": -330
    },
    "id": "VZhUrcqTm_FW",
    "outputId": "ef09838d-c6f1-4d28-9f98-1d9e5874167a"
   },
   "outputs": [
    {
     "name": "stdout",
     "output_type": "stream",
     "text": [
      "WARNING:tensorflow:AutoGraph could not transform <function Model.make_predict_function.<locals>.predict_function at 0x000001E854755CA8> and will run it as-is.\n",
      "Please report this to the TensorFlow team. When filing the bug, set the verbosity to 10 (on Linux, `export AUTOGRAPH_VERBOSITY=10`) and attach the full output.\n",
      "Cause: 'arguments' object has no attribute 'posonlyargs'\n",
      "To silence this warning, decorate the function with @tf.autograph.experimental.do_not_convert\n",
      "WARNING: AutoGraph could not transform <function Model.make_predict_function.<locals>.predict_function at 0x000001E854755CA8> and will run it as-is.\n",
      "Please report this to the TensorFlow team. When filing the bug, set the verbosity to 10 (on Linux, `export AUTOGRAPH_VERBOSITY=10`) and attach the full output.\n",
      "Cause: 'arguments' object has no attribute 'posonlyargs'\n",
      "To silence this warning, decorate the function with @tf.autograph.experimental.do_not_convert\n",
      "CNN Model Accuracy : 0.5266090833101142\n"
     ]
    }
   ],
   "source": [
    "test_true = np.argmax(test_y, axis=1)\n",
    "test_pred = np.argmax(model.predict(test_x),axis=1)\n",
    "print(\"CNN Model Accuracy : {}\".format(accuracy_score(test_true,test_pred)))"
   ]
  },
  {
   "cell_type": "markdown",
   "metadata": {
    "id": "UjxfFlJTxJJP"
   },
   "source": [
    "### Model to json"
   ]
  },
  {
   "cell_type": "code",
   "execution_count": 20,
   "metadata": {
    "executionInfo": {
     "elapsed": 1834,
     "status": "ok",
     "timestamp": 1607672821670,
     "user": {
      "displayName": "Ashok Kumar",
      "photoUrl": "",
      "userId": "03186769766374542218"
     },
     "user_tz": -330
    },
    "id": "1QhGbQbBp92P"
   },
   "outputs": [],
   "source": [
    "model_json = model.to_json()\n",
    "with open(\"model.json\", \"w\") as json_file:\n",
    "    json_file.write(model_json)"
   ]
  },
  {
   "cell_type": "code",
   "execution_count": null,
   "metadata": {
    "id": "eh6dKxFXxG_g"
   },
   "outputs": [],
   "source": []
  }
 ],
 "metadata": {
  "accelerator": "GPU",
  "colab": {
   "authorship_tag": "ABX9TyOCfWjfOK3PNrdb6vvDYGzo",
   "mount_file_id": "1JXFqYp5Fxv4zmSMidWkKXL2RDP5vMQJM",
   "name": "Facial Emotional Recogination .ipynb",
   "provenance": []
  },
  "kernelspec": {
   "display_name": "Python 3",
   "language": "python",
   "name": "python3"
  },
  "language_info": {
   "codemirror_mode": {
    "name": "ipython",
    "version": 3
   },
   "file_extension": ".py",
   "mimetype": "text/x-python",
   "name": "python",
   "nbconvert_exporter": "python",
   "pygments_lexer": "ipython3",
   "version": "3.7.1"
  }
 },
 "nbformat": 4,
 "nbformat_minor": 1
}
